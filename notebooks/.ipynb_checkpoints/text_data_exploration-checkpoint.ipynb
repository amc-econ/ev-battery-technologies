{
 "cells": [
  {
   "cell_type": "markdown",
   "metadata": {},
   "source": [
    "# Exploration of the EP full-text data"
   ]
  },
  {
   "cell_type": "markdown",
   "metadata": {},
   "source": [
    "**Table of contents**\n",
    "\n",
    "* [Introduction](#Introduction)\n",
    "* [1. Load data](#1.-Load-data)\n",
    "* [2. Different types of text data, stored in different formats](#2.-Different-types-of-text-data,-stored-in-different-formats)\n",
    "* [3. Language of the claims](#3.-Language-of-the-claims)\n",
    "* [4. Parsing the xml content](#4.-Parsing-the-xml-content)\n",
    "    * [4.1. Test example with xml from the documentation](#4.1.-Test-example-with-xml-from-the-documentation)\n",
    "    * [4.2. Applying to the patent text data](#4.2.-Applying-to-the-patent-text-data)"
   ]
  },
  {
   "cell_type": "markdown",
   "metadata": {},
   "source": [
    "## Introduction"
   ]
  },
  {
   "cell_type": "markdown",
   "metadata": {},
   "source": [
    "We explore the textual content of the EP-full-text data and define some methods to access the data. In particular, we show how to parse the `xml` content of the `CLAIM` and `DESCR` fields.  "
   ]
  },
  {
   "cell_type": "code",
   "execution_count": 131,
   "metadata": {},
   "outputs": [],
   "source": [
    "import pandas as pd\n",
    "# library to parse the xml\n",
    "# library doc: https://docs.python.org/3/library/xml.etree.elementtree.html\n",
    "import xml.etree.ElementTree as ET "
   ]
  },
  {
   "cell_type": "markdown",
   "metadata": {},
   "source": [
    "## 1. Load data"
   ]
  },
  {
   "cell_type": "code",
   "execution_count": 132,
   "metadata": {},
   "outputs": [],
   "source": [
    "data_sample = pd.read_csv('../data/ep_full_text_database/2020_edition/EP0000000.txt',\n",
    "                          sep = '\\t',  header = None)"
   ]
  },
  {
   "cell_type": "markdown",
   "metadata": {},
   "source": [
    "We rename the columns for clarity:"
   ]
  },
  {
   "cell_type": "code",
   "execution_count": 133,
   "metadata": {
    "scrolled": true
   },
   "outputs": [
    {
     "data": {
      "text/html": [
       "<div>\n",
       "<style scoped>\n",
       "    .dataframe tbody tr th:only-of-type {\n",
       "        vertical-align: middle;\n",
       "    }\n",
       "\n",
       "    .dataframe tbody tr th {\n",
       "        vertical-align: top;\n",
       "    }\n",
       "\n",
       "    .dataframe thead th {\n",
       "        text-align: right;\n",
       "    }\n",
       "</style>\n",
       "<table border=\"1\" class=\"dataframe\">\n",
       "  <thead>\n",
       "    <tr style=\"text-align: right;\">\n",
       "      <th></th>\n",
       "      <th>publication_authority</th>\n",
       "      <th>publication_number</th>\n",
       "      <th>publication_kind</th>\n",
       "      <th>publication_date</th>\n",
       "      <th>language_text_component</th>\n",
       "      <th>text_type</th>\n",
       "      <th>text</th>\n",
       "    </tr>\n",
       "  </thead>\n",
       "  <tbody>\n",
       "    <tr>\n",
       "      <th>0</th>\n",
       "      <td>EP</td>\n",
       "      <td>2</td>\n",
       "      <td>A1</td>\n",
       "      <td>1978-12-20</td>\n",
       "      <td>de</td>\n",
       "      <td>TITLE</td>\n",
       "      <td>Tetrahydrofuran-Derivate, Verfahren zu ihrer H...</td>\n",
       "    </tr>\n",
       "    <tr>\n",
       "      <th>1</th>\n",
       "      <td>EP</td>\n",
       "      <td>2</td>\n",
       "      <td>A1</td>\n",
       "      <td>1978-12-20</td>\n",
       "      <td>en</td>\n",
       "      <td>TITLE</td>\n",
       "      <td>Tetrahydrofurane derivatives, processes for th...</td>\n",
       "    </tr>\n",
       "    <tr>\n",
       "      <th>2</th>\n",
       "      <td>EP</td>\n",
       "      <td>2</td>\n",
       "      <td>A1</td>\n",
       "      <td>1978-12-20</td>\n",
       "      <td>fr</td>\n",
       "      <td>TITLE</td>\n",
       "      <td>Dérivés du tétrahydrofuranne, leurs procédés d...</td>\n",
       "    </tr>\n",
       "    <tr>\n",
       "      <th>3</th>\n",
       "      <td>EP</td>\n",
       "      <td>2</td>\n",
       "      <td>A1</td>\n",
       "      <td>1978-12-20</td>\n",
       "      <td>de</td>\n",
       "      <td>ABSTR</td>\n",
       "      <td>&lt;p id=\"pa01\" num=\"0001\"&gt;Die vorliegende Erfind...</td>\n",
       "    </tr>\n",
       "    <tr>\n",
       "      <th>4</th>\n",
       "      <td>EP</td>\n",
       "      <td>2</td>\n",
       "      <td>A1</td>\n",
       "      <td>1978-12-20</td>\n",
       "      <td>de</td>\n",
       "      <td>DESCR</td>\n",
       "      <td>&lt;p id=\"p0001\" num=\"0001\"&gt;Die vorliegende Erfin...</td>\n",
       "    </tr>\n",
       "  </tbody>\n",
       "</table>\n",
       "</div>"
      ],
      "text/plain": [
       "  publication_authority  publication_number publication_kind publication_date  \\\n",
       "0                    EP                   2               A1       1978-12-20   \n",
       "1                    EP                   2               A1       1978-12-20   \n",
       "2                    EP                   2               A1       1978-12-20   \n",
       "3                    EP                   2               A1       1978-12-20   \n",
       "4                    EP                   2               A1       1978-12-20   \n",
       "\n",
       "  language_text_component text_type  \\\n",
       "0                      de     TITLE   \n",
       "1                      en     TITLE   \n",
       "2                      fr     TITLE   \n",
       "3                      de     ABSTR   \n",
       "4                      de     DESCR   \n",
       "\n",
       "                                                text  \n",
       "0  Tetrahydrofuran-Derivate, Verfahren zu ihrer H...  \n",
       "1  Tetrahydrofurane derivatives, processes for th...  \n",
       "2  Dérivés du tétrahydrofuranne, leurs procédés d...  \n",
       "3  <p id=\"pa01\" num=\"0001\">Die vorliegende Erfind...  \n",
       "4  <p id=\"p0001\" num=\"0001\">Die vorliegende Erfin...  "
      ]
     },
     "execution_count": 133,
     "metadata": {},
     "output_type": "execute_result"
    }
   ],
   "source": [
    "data_sample.columns = ['publication_authority', # will always have the value \"EP\"\n",
    "                'publication_number', # a seven-digit number\n",
    "                'publication_kind', # see https://www.epo.org/searching-for-patents/helpful-resources/first-time-here/definitions.html for help.\n",
    "                'publication_date', # in format YYYY-MM-DD\n",
    "                'language_text_component', # de, en, fr; xx means unknown\n",
    "                'text_type', # TITLE, ABSTR, DESCR, CLAIM, AMEND, ACSTM, SREPT, PDFEP\n",
    "                'text' # it contains, where appropriate, XML tags for better structure. You will find the DTD applicable to all parts of the publication at: http://docs.epoline.org/ebd/doc/ep-patent-document-v1-5.dtd\n",
    "               ]\n",
    "data_sample.head()"
   ]
  },
  {
   "cell_type": "markdown",
   "metadata": {},
   "source": [
    "## 2. Different types of text data, stored in different formats"
   ]
  },
  {
   "cell_type": "code",
   "execution_count": 134,
   "metadata": {},
   "outputs": [
    {
     "data": {
      "text/plain": [
       "TITLE    591983\n",
       "CLAIM    318266\n",
       "PDFEP    189194\n",
       "DESCR    163572\n",
       "ABSTR    116290\n",
       "AMEND       211\n",
       "Name: text_type, dtype: int64"
      ]
     },
     "execution_count": 134,
     "metadata": {},
     "output_type": "execute_result"
    }
   ],
   "source": [
    "data_sample.text_type.value_counts()"
   ]
  },
  {
   "cell_type": "markdown",
   "metadata": {},
   "source": [
    "We display how each type of data is encoded:\n",
    "> * TITLE: plain text\n",
    "* CLAIM: xml\n",
    "* PDFEP: html link\n",
    "* DESCR: xml\n",
    "* ABSTR: xml\n",
    "* AMEND: xml"
   ]
  },
  {
   "cell_type": "code",
   "execution_count": 135,
   "metadata": {},
   "outputs": [
    {
     "name": "stdout",
     "output_type": "stream",
     "text": [
      "__________________\n",
      "TITLE\n",
      "Method for the oxidation of quinine to quininone and quinidinone.\n",
      "__________________\n",
      "CLAIM\n",
      "<claim id=\"c-en-0001\" num=\"\"><claim-text>1. A method of cleaning teeth by applying thereto a cation of one or more elements selected from yttrium, scandium, lanthanum, cerium, praseodymium, neodymium, promethium, samarium, europium, gadolinium, terbium, dysprosium, holmium, erbium, thulium, ytterbium and lutetium.</claim-text></claim><claim id=\"c-en-0002\" num=\"\"><claim-text>2. A method as claimed in claim 1 wherein the cation is the lanthanum cation.</claim-text></claim><claim id=\"c-en-0003\" num=\"\"><claim-text>3. A composition for use in the method of claim 1 or claim 2 which is in a form for use in a non-sequential manner.</claim-text></claim><claim id=\"c-en-0004\" num=\"\"><claim-text>4. A composition as claimed in claim 3 which is in the form of a single pack for use on its own.</claim-text></claim><claim id=\"c-en-0005\" num=\"\"><claim-text>5. A composition as claimed in claim 3 or 4 which is a mouthwash, toothpaste, toothpowder or dental gel.</claim-text></claim>\n",
      "__________________\n",
      "PDFEP\n",
      "https://data.epo.org/publication-server/pdf-document?cc=EP&pn=0000256&ki=A1&pd=1979-01-10\n",
      "__________________\n",
      "DESCR\n",
      "<p id=\"p0001\" num=\"0001\">This invention relates to dental hygiene, and more particularly it relates to a method of cleaning teeth.</p><p id=\"p0002\" num=\"0002\">It is known that a wide variety of elemental cations, including those derived from gallium, yttrium, lead, indium, beryllium, cerium, dysprosium, iron, arsenic, thorium, iridium, rubidium, vanadium, zirconium, titanium, tin, thallium, aluminium, copper, ruthenium, gold, samarium, rhodium, mercury, lithium, cobalt, lanthanum, uranium, zinc, barium, caesium, strontium, calcium, cadmium and chromium, reduce the acid solubility of tooth enamel in an in vitro test system (R.S. Manly and B.G. Bibby, J.Dent.Res., 1949, 28, 160-171). It is also known that tooth enamel may be remineral- ised by sequential application to the teeth of a cationic and an anionic component which react below the tooth surface to form an insoluble salt. Examples of the cationic component are ions derived from barium, lanthanum, manganese, lead, tin, zinc, indium, zirconium, iron, titanium, vanadium and cadmium (UK Patent Specification No. 1,452,125).</p><p id=\"p0003\" num=\"0003\">It has been found that administration of yttrium nitrate to rats, either by intraperitoneal <!-- EPO <DP n=\"3\"> -->injection or via the drinking water, reduces the incidence of caries and this effect has been attributed to the incorporation of yttrium into the dental enamel, thus reducing its acid solubility. (R.Castillo Mercado and T.G. Ludwig, Archs.oral Biol., 1973, 18, 637-640). It has also been found that mouthrinsing with a stannous fluoride solution reduces plaque formation on tooth enamel (N. Tinanoff, J.M. Brady, and A.Gross, Caries Res., 1976, 10, 415-426; N.Tinanoff, J.Dent.Res., 1977, 56, Spec. Issue A, A138).</p><p id=\"p0004\" num=\"0004\">It has now been discovered, and herein lies our invention, that deposits such as dental plaque may be removed from the surface of teeth, or may be prevented from adhering thereto, by application of a cation of a selected group of elements.</p><p id=\"p0005\" num=\"0005\">According to the invention there is provided a method of cleaning teeth by applying thereto a cation of one or more elements selected from yttrium, scandium and lanthanum and the lanthanides. The lanthanides include cerium, praseodymium, neodymium, promethium, samarium, europium, gadolinium, terbium, dysprosium, holmium, erbium, thulium, ytterbium and lutetium. These elements are very closely related chemically since they all fall within Group IIIb of the Periodic Table. Lanthanum and the lanthanides form the first group of Inner Transition Elements within Group IIIb.</p><p id=\"p0006\" num=\"0006\">The method of the invention is particularly useful for cleaning teeth in human beings. The efficent cleaning of teeth is, of course,of immense cosmetic value. One of the substances routinely found on the surface of teeth is bacterial plaque and the method of this invention is particularly useful in removing plaque from teeth or in preventing its adhering thereto. The method of the invention is also useful in removing various types of stain from teeth, for example the <!-- EPO <DP n=\"4\"> -->stain produced by smoking tobacco. In addition, bacterial plaque is generally regarded as a dominant etiological factor in caries and periodontal disease and removal of plaque from teeth or prevention of its accumulation is known to have a beneficial effect in those conditions.</p><p id=\"p0007\" num=\"0007\">Only a very small proportion of the population of an industrialised country is free from caries or periodontal disease, and it is to be expected therefore that, for the majority of that population, application of the method of the invention will result in the additional benefit of a reduction in the incidence of caries and/or periodontal disease.</p><p id=\"p0008\" num=\"0008\">The preferred cations for use in the method of the invention are those derived from lanthanum and the lanthanides, and a particularly preferred cation is the lanthanum cation.</p><p id=\"p0009\" num=\"0009\">When used in the method of the invention, the cation may be in the form of a salt, and preferably in the form of a water-soluble salt. Examples of such water soluble salts are the chloride, bromide, iodide, nitrate, acetate or sulphate. The cation may-also be used in the form of a salt with an antibacterial anion.</p><p id=\"p0010\" num=\"0010\">The preferred compound for use in the method of the invention is lanthanum chloride, LaCl<sub>3</sub>.</p><p id=\"p0011\" num=\"0011\">The amount of cation used in the method of the invention may vary from 0.01 m.moles to 1 m.moles of cation and preferably from 0.1 m.moles to 0.5 m.moles of cation, and it may be applied from once a week to 1 to 10 times per day. A preferred regime is three times per day, after meals, or failing this, twice per day, night and morning.</p><p id=\"p0012\" num=\"0012\">The method of the invention achieves a satisfactory result simply by application of the cation to the teeth, for example in the form of a simple aqueous solution. However, an improved degree of <!-- EPO <DP n=\"5\"> -->cleansing can be achieved if the method of the invention is combined with one or more of the normal mechanical methods of cleaning teeth, for example if combined with the use of a toothbrush, toothpick, dental floss, dental probe or rotary dental brush. A particularly preferred adjunct to the method of the invention is the use of a toothbrush.</p><p id=\"p0013\" num=\"0013\">The cation for use in the method of the invention may be presented in the form of a composition such as a simple aqueous solution or suspension or in the form of a more sophisticated composition such as a mouthwash, toothpaste, prophylaxis paste, toothpowder, pastille, chewing gum or oral spray, or it may be incorporated into a beverage, nutritional substance or confection. It may also be incorporated into the public water supply.</p><p id=\"p0014\" num=\"0014\">The compositions described above are those which are well known to those skilled in this art. They may incorporate any of the ingredients normally used in such compositions, with the addition of the cation in the form of a salt. In the case of a mouthwash or oral spray the cation is incorporated at the desired user concentration. In the case of a toothpaste, prophylactic paste, toothpowder, lozenge or chewing gum, it may be necessary, depending on the nature of the ingredients in the composition,to increase the concentration of the cation to above the level of the desired user concentration, for example by up to five times the desired user concentration, in order to allow for incomplete availability of the cation in use as a result of specific binding of the cation to one or more of the ingredients. In these formulations it is preferable to use ingredients which avoid precipitation of the cation in the form of an insoluble salt.</p><p id=\"p0015\" num=\"0015\">A typical mouthwash has an aqueous base and generally incorporates a thickener and a flavour.</p><!-- EPO <DP n=\"6\"> --><p id=\"p0016\" num=\"0016\">A gel has an aqueous base and generally incorporates a gelling agent, a surfactant, a flavour and a preservative.</p><p id=\"p0017\" num=\"0017\">A toothpaste has an aqueous base and generally contains an abrasive, a binder, a thickener, a surfactant, a humectant, a flavouring agent and a sweetening agent.</p><p id=\"p0018\" num=\"0018\">Specific compositions are described, by way of example only, in Examples 6 to 9.</p><p id=\"p0019\" num=\"0019\">According to a further feature of the invention there is provided a composition for use in the method of cleaning teeth described above which is in a form for use in a non-sequential manner. By the words \"in a form for use in a non-sequential manner\" we mean, for example, that the composition is presented as a single pack which is intended to be used on its own, and is not intended to be used immediately before or immediately after a second different composition in a sequential manner. It is not, for example, part of a two-component pack, and it is not a single composition which is designed to release separately two components in a sequential manner. On the contrary the eomposition of the invention is, for example, a simple aqueous solution or suspension, or a more sophisticated composition such as a mouthwash, toothpaste, prophylaxis paste, toothpowder, lozenge, chewing gum or oral spray which is presented in a single pack for use on its own. The pack may optionally carry instructions on how the composition should be used for cleaning teeth according to the method of the invention, and such instructions may indicate that the composition should be used in a non- sequential manner. The instructions will be appropriate to the nature of the composition. Thus, for example, if the composition is a toothpaste the instructions may indicate that the user should use the paste as the sole agent for brushing his or her teeth.</p><!-- EPO <DP n=\"7\"> --><p id=\"p0020\" num=\"0020\">The invention is illustrated, but not limited, <sup>â</sup> by the following Examples:-</p><heading id=\"h0001\">Example 1</heading><p id=\"p0021\" num=\"0021\">Sixty dental students, average age 19 years, volunteered for the experiment. After having had a thorough prophylaxis, all the students were instructed to suspend oral hygiene for 3 days. To provoke plaque formation the students rinsed with 10 ml. of 15% w/v aqueous sucrose solution for 1 minute every second hour between 8 a.m. and 10 p.m. At the end of this period the amount of plaque which had accumulated on the teeth was estimated by use of a Plaque Index, as follows:-<ul id=\"ul0001\" list-style=\"none\"><li>0 - No firmly attached plaque</li><li>1 - No firmly attached plaque visible, but some collected with a dental probe</li><li>2 - Slight amount of firmly attached plaque visible</li><li>3 - Extensive amount of firmly attached plaque visible.</li></ul></p><p id=\"p0022\" num=\"0022\">The 16 individuals showing the highest Plaque Index values were selected for further study over a period of 4 days. At the start of this period, the participants were brought to Plaque Index =0. During the test, no oral hygiene was allowed, and in addition to the sucrose rinses, 2 daily rinses with 10 ml..of 20 m.molar aqueous lanthanum chloride solution were instituted in a group of 8 individuals, the remaining 8 acting as controls. At the end of the 4 day period, plaque estimations were made by one person, the results being statistically averaged. The whole experiment was carried out under double blind conditions.</p><p id=\"p0023\" num=\"0023\">The control group had a mean Plaque Index of 1.0 whereas the treated group had a mean Plaque Index of zero. The very small amount of deposit which was present in the treated group was very loosely attached to the tooth surface and could be blown off with an air jet.</p><p id=\"p0024\" num=\"0024\">In a parallel experiment, individuals who <!-- EPO <DP n=\"8\"> -->rinsed with a 20 m.molar solution of aqueous stannous fluoride had a mean Plaque Index of 0.3.</p><heading id=\"h0002\">Example 2</heading><p id=\"p0025\" num=\"0025\">A test panel of ten volunteers had a thorough prophylaxis to remove plaque from their teeth so that the Plaque Index measured according to L8e, J.Periodontol., 1967, 38, 610-616, was zero at the start of the experiment. The panel was provided with new toothbrushes and instructed to brush their teeth each morning and evening for 30 seconds over a period of four days, according to each individual's own habits, with a 10 ml. test solution, and then to rinse the teeth with the remainder of the test solution. The test solutions were 20 mM aqueous NaCl, 10 mM aqueous LaCl<sub>3</sub>, 20 mM aqueous LaCl<sub>3</sub> and 20 mM aqueous YC1<sub>3</sub>. The whole experiment was carried out under double blind conditions, each person using one of the test solutions in turn. Each person's Plaque Index was brought to zero before using a new test solution. The results obtained were as follows:-<tables id=\"tabl0001\" num=\"0001\"><img id=\"ib0001\" file=\"imgb0001.tif\" wi=\"150\" he=\"87\" img-content=\"table\" img-format=\"tif\" inline=\"no\"/></tables></p><heading id=\"h0003\">Example 3</heading><p id=\"p0026\" num=\"0026\">In a parallel experiment solutions of 20 mM aqueous GdCl<sub>3</sub> and aqueous YbCl<sub>3</sub> were tested in groups of <!-- EPO <DP n=\"9\"> -->four people according to the protocol described in Example 2. The results obtained were comparable with those obtained for YC1<sub>3</sub> in Example 2.</p><p id=\"p0027\" num=\"0027\">A similar result was obtained using 20 mM La<sub>2</sub>(S0<sub>4</sub>)<sub>3</sub> though a complete solution at this concentration was not achieved.</p><heading id=\"h0004\">Example 4</heading><p id=\"p0028\" num=\"0028\">A test panel of 10 volunteers all of whom had intact buccal surfaces on their upper and lower teeth, first molar to first molar inclusive, were separated into two groups (A and B) having five persons in each.</p><p id=\"p0029\" num=\"0029\">On Day 0 each person's mouth and teeth was stained with a plaque disclosing agent, erythrosine and then each person had a thorough prophylaxis in order to reduce to zero the Gingivalmargin Plaque Index measured according to Harrap, J.Clin.Periodontol., 1974, 1, 166-174.</p><p id=\"p0030\" num=\"0030\">On Days 1 and 2 each person was instructed to brush their teeth as normal with their own toothbrush and toothpaste. They were then re-examined to ensure the presence of healthy gingiva, and their Gingival margin Plaque Index was again reduced to zero.</p><p id=\"p0031\" num=\"0031\">On Day 3, at 7 a.m., each group brushed their teeth with 20 ml. of either a 20 mM aqueous lanthanum acetate solution or water respectively with a new soft toothbrush dipped in the respective test solution. Rinsing for 1 minute was then carried out with the remainder of the test solution. No after-rinses with water were permitted.</p><p id=\"p0032\" num=\"0032\">On Day 4, at 1 pm., each person's teeth was stained with disclosing agent and the Gingival margin Plaque Index scored, the scoring being performed blindly.</p><p id=\"p0033\" num=\"0033\">Days 1 to 4 of the test period were repeated, groups A and B interchanging test solutions.</p><!-- EPO <DP n=\"10\"> --><p id=\"p0034\" num=\"0034\">The results obtained were as follows, the figures in the second and third column being a summation of the percentage score for each of the 24 teeth.<tables id=\"tabl0002\" num=\"0002\"><img id=\"ib0002\" file=\"imgb0002.tif\" wi=\"130\" he=\"99\" img-content=\"table\" img-format=\"tif\" inline=\"no\"/></tables></p><heading id=\"h0005\">Example 5</heading><p id=\"p0035\" num=\"0035\">A subject rinsed his mouth and teeth with 10 ml. of 20 mM aqueous LaCl<sub>3</sub> solution for 1 minute. The solution tasted salty but was not unpleasant - there was no metallic taste. After rinsing the subjectspat out pieces of organic debris. His mouth and teeth felt much cleaner and in particular his teeth felt dry and clean.</p><p id=\"p0036\" num=\"0036\">On a separate occasion the same subject rinsed with 10 ml. of 20 mM aqueous stannous fluoride. The solution tasted acid and metallic. The cleansing effect experienced with stannous fluoride was not as great as that with LaCl<sub>3</sub>.</p><p id=\"p0037\" num=\"0037\">A different subject found that rinsing with 20 mM aqueous LaCl<sub>3</sub> solution significantly reduced the amount of tooth stain caused by smoking tobacco.<!-- EPO <DP n=\"11\"> --></p><heading id=\"h0006\">Example 6</heading><p id=\"p0038\" num=\"0038\"><tables id=\"tabl0003\" num=\"0003\"><img id=\"ib0003\" file=\"imgb0003.tif\" wi=\"152\" he=\"50\" img-content=\"table\" img-format=\"tif\" inline=\"no\"/></tables></p><heading id=\"h0007\">Example 7</heading><p id=\"p0039\" num=\"0039\"><tables id=\"tabl0004\" num=\"0004\"><img id=\"ib0004\" file=\"imgb0004.tif\" wi=\"124\" he=\"51\" img-content=\"table\" img-format=\"tif\" inline=\"no\"/></tables></p><heading id=\"h0008\">Example 8</heading><p id=\"p0040\" num=\"0040\"><tables id=\"tabl0005\" num=\"0005\"><img id=\"ib0005\" file=\"imgb0005.tif\" wi=\"116\" he=\"76\" img-content=\"table\" img-format=\"tif\" inline=\"no\"/></tables></p><!-- EPO <DP n=\"12\"> --><heading id=\"h0009\">Example 9</heading><p id=\"p0041\" num=\"0041\"><tables id=\"tabl0006\" num=\"0006\"><img id=\"ib0006\" file=\"imgb0006.tif\" wi=\"102\" he=\"68\" img-content=\"table\" img-format=\"tif\" inline=\"no\"/></tables></p>\n",
      "__________________\n",
      "ABSTR\n",
      "<p id=\"pa01\" num=\"0001\">The invention relates to a method of cleaning teeth by applying thereto one or more elements selected from yttrium, scandium and lanthanum and the lanthanides, and to compositions, such as mouthwashes, toothpastes and dental gels, for use in such a method.</p>\n",
      "__________________\n",
      "AMEND\n"
     ]
    },
    {
     "name": "stdout",
     "output_type": "stream",
     "text": [
      "<heading id=\"h0006\">Amended claims in accordance with Rule 86(2) EPC.</heading><claim id=\"ac-en-0001\" num=\"\"><claim-text>1. An improved edge dam assembly for use with an applicator for applying a coating liquid to a web of moving paper carried on a movable support, wherein the applicator is of a type having a body portion defining a chamber therein with an elongate opening thereto positionable generally below, adjacent to and transversely of the web, the chamber receiving coating liquid and directing the same generally upwardly through the opening and onto the web, said edge dam assembly comprising seal means at each end of the opening mountable in the opening generally below the web for sealing along side surfaces thereof with the body portion on opposite sides of the opening and for extending at upper surfaces thereof toward and closely adjacent to but spaced from the web for sealing therewith, each said seal means having a plurality of spaced grooves formed therein along said side and upper surfaces thereof, the interiors of said grooves being substantially at atmospheric pressure and said grooves in said upper surface extending generally along the direction of movement of the web thereat, whereby coating liquid seeping past said seal means enters and gravitates through said grooves.</claim-text></claim><claim id=\"ac-en-0002\" num=\"\"><claim-text>2. An improved edge dam assembly as in claim 1, wherein said side and upper surfaces of each said seal means define sealing surfaces on opposite sides of said grooves, said sealing surfaces of said top surface extending toward and closely adjacent to but spaced from the paper web or backing roll.</claim-text></claim><!-- EPO <DP n=\"13\"> --><claim id=\"ac-en-0003\" num=\"\"><claim-text>3. An improved edge dam assembly as in claim 1, wherein said grooves lie in generally parallel planes.</claim-text></claim><claim id=\"ac-en-0004\" num=\"\"><claim-text>4. An improved edge dam assembly as in claim 1, wherein each said seal means comprises a plurality of generally planar first and second elements interleaved side by side to alternate said first and second elements, said first and second pluralities of elements being dimensioned to form said plurality of spaced grooves.</claim-text></claim><claim id=\"ac-en-0005\" num=\"\"><claim-text>5. An improved edge dam assembly as in claim 4, wherein said first and second elements lie in planes extending generally parallel to the direction of movement of the web.</claim-text></claim><claim id=\"ac-en-0006\" num=\"\"><claim-text>6. An improved edge dam assembly as in claim 4 or 5, wherein each of said first elements has a peripheral groove in and along its upper and side surfaces and sealing surfaces, on said upper surface on opposite sides of said groove, extending toward and closely adjacent to but spaced from the paper web.</claim-text></claim><claim id=\"ac-en-0007\" num=\"\"><claim-text>7. An improved edge dam assembly as in claim 6, wherein said second elements have surfaces for sealing with the body portions on opposite sides of the chamber opening.</claim-text></claim><claim id=\"ac-en-0008\" num=\"\"><claim-text>8. An improved edge dam assembly as in claim 7, wherein each of said second elements has an open ended notch extending from an edge thereof to a medial point therein in a direction generally along the body portions, and a width between the body portions which is greater than the spacing between the body portions, said notch permitting compression of said second elements so that the same fit between and seal with the body portions.</claim-text></claim>\n"
     ]
    }
   ],
   "source": [
    "for text_type in data_sample.text_type.value_counts().to_frame().reset_index()['index'].unique().tolist():\n",
    "    \n",
    "    print('__________________')\n",
    "    print(text_type)\n",
    "    \n",
    "    \n",
    "    condition1 = data_sample.text_type == text_type\n",
    "    condition2 = data_sample.language_text_component == 'en'\n",
    "    df = data_sample[condition1 & condition2]['text'].to_frame()\n",
    "    example_xml = df.iloc[110]['text']\n",
    "    print(example_xml)"
   ]
  },
  {
   "cell_type": "markdown",
   "metadata": {},
   "source": [
    "## 3. Language of the claims"
   ]
  },
  {
   "cell_type": "code",
   "execution_count": 136,
   "metadata": {},
   "outputs": [
    {
     "data": {
      "text/plain": [
       "en    546740\n",
       "de    444896\n",
       "fr    336723\n",
       "xx     51157\n",
       "Name: language_text_component, dtype: int64"
      ]
     },
     "execution_count": 136,
     "metadata": {},
     "output_type": "execute_result"
    }
   ],
   "source": [
    "data_sample.language_text_component.value_counts()"
   ]
  },
  {
   "cell_type": "code",
   "execution_count": 137,
   "metadata": {},
   "outputs": [
    {
     "data": {
      "text/plain": [
       "'<p id=\"pa01\" num=\"0001\">Herstellung von durch Chloratome und/oder Sulfochloridgruppen substituierten Alkanen durch Umsetzung von Alkanen mit Chlor und gegebenenfalls Schwefeldioxid in einem bestimmten Durchsatzverhättnis und in einem zur Horizontalen geneigten Reaktionsraum, wobei die Ausgangsstoffe im Gleichstrom von unten her durch den ReaktIonsraum geleitet werden und der ReaktIonsraum im unteren Teil mit Licht der Wellenlängen von 500 bis 700 Nanometem und im oberen Teil mit Licht der Wellenlängen zwischen 200 und 500 Nanometem belichtet wird.</p><p id=\"pa02\" num=\"0002\">Die nach dem Verfahren der Erfindung herstellbaren substituierten Alkane oder Paraffine sind Schädingsbekämpfungsmittel, Weichmacher, Lösungsmittel und wertvolle Ausgangsstoffe für die Herstellung solcher Stoffe, sowie von Lederfettungsmitteln, Netzmitteln, Waschmitteln, Schmierölen, Kunstharzen, Gleitmitteln.</p>'"
      ]
     },
     "execution_count": 137,
     "metadata": {},
     "output_type": "execute_result"
    }
   ],
   "source": [
    "# xx is one of the three languages (EN, FR, DE)\n",
    "condition2 = data_sample.language_text_component == 'xx'\n",
    "df = data_sample[condition2]['text'].to_frame()\n",
    "df.iloc[789]['text']"
   ]
  },
  {
   "cell_type": "markdown",
   "metadata": {},
   "source": [
    "## 4. Parsing the xml content"
   ]
  },
  {
   "cell_type": "markdown",
   "metadata": {},
   "source": [
    "We use as example a claim in English."
   ]
  },
  {
   "cell_type": "code",
   "execution_count": 138,
   "metadata": {},
   "outputs": [
    {
     "data": {
      "text/plain": [
       "'<claim id=\"c-en-0001\" num=\"\"><claim-text>1. A method of cleaning teeth by applying thereto a cation of one or more elements selected from yttrium, scandium, lanthanum, cerium, praseodymium, neodymium, promethium, samarium, europium, gadolinium, terbium, dysprosium, holmium, erbium, thulium, ytterbium and lutetium.</claim-text></claim><claim id=\"c-en-0002\" num=\"\"><claim-text>2. A method as claimed in claim 1 wherein the cation is the lanthanum cation.</claim-text></claim><claim id=\"c-en-0003\" num=\"\"><claim-text>3. A composition for use in the method of claim 1 or claim 2 which is in a form for use in a non-sequential manner.</claim-text></claim><claim id=\"c-en-0004\" num=\"\"><claim-text>4. A composition as claimed in claim 3 which is in the form of a single pack for use on its own.</claim-text></claim><claim id=\"c-en-0005\" num=\"\"><claim-text>5. A composition as claimed in claim 3 or 4 which is a mouthwash, toothpaste, toothpowder or dental gel.</claim-text></claim>'"
      ]
     },
     "execution_count": 138,
     "metadata": {},
     "output_type": "execute_result"
    }
   ],
   "source": [
    "condition1 = data_sample.text_type == 'CLAIM'\n",
    "condition2 = data_sample.language_text_component == 'en'\n",
    "df = data_sample[condition1 & condition2]['text'].to_frame()\n",
    "example_xml = df.iloc[110]['text']\n",
    "example_xml"
   ]
  },
  {
   "cell_type": "markdown",
   "metadata": {},
   "source": [
    "### 4.1. Test example with xml from the documentation"
   ]
  },
  {
   "cell_type": "code",
   "execution_count": 139,
   "metadata": {},
   "outputs": [],
   "source": [
    "xml = \"\"\"\n",
    "<data>\n",
    "    <country name=\"Liechtenstein\">\n",
    "        <rank>1</rank>\n",
    "        <year>2008</year>\n",
    "        <gdppc>141100</gdppc>\n",
    "        <neighbor name=\"Austria\" direction=\"E\"/>\n",
    "        <neighbor name=\"Switzerland\" direction=\"W\"/>\n",
    "    </country>\n",
    "    <country name=\"Singapore\">\n",
    "        <rank>4</rank>\n",
    "        <year>2011</year>\n",
    "        <gdppc>59900</gdppc>\n",
    "        <neighbor name=\"Malaysia\" direction=\"N\"/>\n",
    "    </country>\n",
    "    <country name=\"Panama\">\n",
    "        <rank>68</rank>\n",
    "        <year>2011</year>\n",
    "        <gdppc>13600</gdppc>\n",
    "        <neighbor name=\"Costa Rica\" direction=\"W\"/>\n",
    "        <neighbor name=\"Colombia\" direction=\"E\"/>\n",
    "    </country>\n",
    "</data>\n",
    "\"\"\""
   ]
  },
  {
   "cell_type": "code",
   "execution_count": 140,
   "metadata": {},
   "outputs": [],
   "source": [
    "root = ET.fromstring(xml)"
   ]
  },
  {
   "cell_type": "code",
   "execution_count": 141,
   "metadata": {},
   "outputs": [
    {
     "data": {
      "text/plain": [
       "'data'"
      ]
     },
     "execution_count": 141,
     "metadata": {},
     "output_type": "execute_result"
    }
   ],
   "source": [
    "root.tag"
   ]
  },
  {
   "cell_type": "code",
   "execution_count": 142,
   "metadata": {},
   "outputs": [
    {
     "name": "stdout",
     "output_type": "stream",
     "text": [
      "country {'name': 'Liechtenstein'}\n",
      "country {'name': 'Singapore'}\n",
      "country {'name': 'Panama'}\n"
     ]
    }
   ],
   "source": [
    "for child in root:\n",
    "    print(child.tag, child.attrib)"
   ]
  },
  {
   "cell_type": "code",
   "execution_count": 143,
   "metadata": {},
   "outputs": [
    {
     "name": "stdout",
     "output_type": "stream",
     "text": [
      "Liechtenstein 1\n",
      "Singapore 4\n",
      "Panama 68\n"
     ]
    }
   ],
   "source": [
    "for country in root.findall('country'):\n",
    "    rank = country.find('rank').text\n",
    "    name = country.get('name')\n",
    "    print(name, rank)"
   ]
  },
  {
   "cell_type": "markdown",
   "metadata": {},
   "source": [
    "### 4.2. Applying to the patent text data"
   ]
  },
  {
   "cell_type": "code",
   "execution_count": 144,
   "metadata": {},
   "outputs": [],
   "source": [
    "# We need to add a root node <data> to the XML in order to parse properly the xml\n",
    "example_xml_modified = \"<data>\" + example_xml + '</data>'"
   ]
  },
  {
   "cell_type": "code",
   "execution_count": 145,
   "metadata": {},
   "outputs": [
    {
     "data": {
      "text/plain": [
       "'<data><claim id=\"c-en-0001\" num=\"\"><claim-text>1. A method of cleaning teeth by applying thereto a cation of one or more elements selected from yttrium, scandium, lanthanum, cerium, praseodymium, neodymium, promethium, samarium, europium, gadolinium, terbium, dysprosium, holmium, erbium, thulium, ytterbium and lutetium.</claim-text></claim><claim id=\"c-en-0002\" num=\"\"><claim-text>2. A method as claimed in claim 1 wherein the cation is the lanthanum cation.</claim-text></claim><claim id=\"c-en-0003\" num=\"\"><claim-text>3. A composition for use in the method of claim 1 or claim 2 which is in a form for use in a non-sequential manner.</claim-text></claim><claim id=\"c-en-0004\" num=\"\"><claim-text>4. A composition as claimed in claim 3 which is in the form of a single pack for use on its own.</claim-text></claim><claim id=\"c-en-0005\" num=\"\"><claim-text>5. A composition as claimed in claim 3 or 4 which is a mouthwash, toothpaste, toothpowder or dental gel.</claim-text></claim></data>'"
      ]
     },
     "execution_count": 145,
     "metadata": {},
     "output_type": "execute_result"
    }
   ],
   "source": [
    "# Here is the modified xml\n",
    "example_xml_modified"
   ]
  },
  {
   "cell_type": "code",
   "execution_count": 146,
   "metadata": {},
   "outputs": [],
   "source": [
    "# we parse it with the ElementTree XML API¶\n",
    "root = ET.fromstring(example_xml_modified)"
   ]
  },
  {
   "cell_type": "code",
   "execution_count": 147,
   "metadata": {},
   "outputs": [
    {
     "data": {
      "text/plain": [
       "'data'"
      ]
     },
     "execution_count": 147,
     "metadata": {},
     "output_type": "execute_result"
    }
   ],
   "source": [
    "# logically the root_tag is the one we have just set\n",
    "root.tag"
   ]
  },
  {
   "cell_type": "code",
   "execution_count": 148,
   "metadata": {},
   "outputs": [
    {
     "data": {
      "text/plain": [
       "['1. A method of cleaning teeth by applying thereto a cation of one or more elements selected from yttrium, scandium, lanthanum, cerium, praseodymium, neodymium, promethium, samarium, europium, gadolinium, terbium, dysprosium, holmium, erbium, thulium, ytterbium and lutetium.',\n",
       " '2. A method as claimed in claim 1 wherein the cation is the lanthanum cation.',\n",
       " '3. A composition for use in the method of claim 1 or claim 2 which is in a form for use in a non-sequential manner.',\n",
       " '4. A composition as claimed in claim 3 which is in the form of a single pack for use on its own.',\n",
       " '5. A composition as claimed in claim 3 or 4 which is a mouthwash, toothpaste, toothpowder or dental gel.']"
      ]
     },
     "execution_count": 148,
     "metadata": {},
     "output_type": "execute_result"
    }
   ],
   "source": [
    "# And this is how we access the text of the claims\n",
    "claims = root.findall(\"./claim/claim-text\")\n",
    "claims_text = [claim.text for claim in claims]\n",
    "claims_text"
   ]
  }
 ],
 "metadata": {
  "kernelspec": {
   "display_name": "Python 3",
   "language": "python",
   "name": "python3"
  },
  "language_info": {
   "codemirror_mode": {
    "name": "ipython",
    "version": 3
   },
   "file_extension": ".py",
   "mimetype": "text/x-python",
   "name": "python",
   "nbconvert_exporter": "python",
   "pygments_lexer": "ipython3",
   "version": "3.6.9"
  }
 },
 "nbformat": 4,
 "nbformat_minor": 4
}
