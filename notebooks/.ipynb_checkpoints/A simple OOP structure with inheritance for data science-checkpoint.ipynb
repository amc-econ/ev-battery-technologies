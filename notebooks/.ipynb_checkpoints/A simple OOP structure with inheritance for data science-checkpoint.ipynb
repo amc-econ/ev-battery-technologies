{
 "cells": [
  {
   "cell_type": "markdown",
   "metadata": {},
   "source": [
    "# A simple OOP structure with inheritance for data science\n",
    "\n",
    "* Inspired from https://github.com/tirthajyoti/Machine-Learning-with-Python/blob/master/OOP_in_ML/Class_MyLinearRegression.py\n",
    "* With this method, we can directly pass \"self\" as an argument! \n",
    "* The model inherits all the characteristics from the Config class!\n",
    "* We can return self in spite all returning a specific object!"
   ]
  },
  {
   "cell_type": "markdown",
   "metadata": {
    "toc": true
   },
   "source": [
    "<h1>Table of Contents<span class=\"tocSkip\"></span></h1>\n",
    "<div class=\"toc\"><ul class=\"toc-item\"><li><span><a href=\"#Creation-of-a-configuration-class\" data-toc-modified-id=\"Creation-of-a-configuration-class-1\"><span class=\"toc-item-num\">1&nbsp;&nbsp;</span>Creation of a configuration class</a></span></li><li><span><a href=\"#Two-classes-to-define-some-'low-level'-methods\" data-toc-modified-id=\"Two-classes-to-define-some-'low-level'-methods-2\"><span class=\"toc-item-num\">2&nbsp;&nbsp;</span>Two classes to define some 'low level' methods</a></span></li><li><span><a href=\"#Model\" data-toc-modified-id=\"Model-3\"><span class=\"toc-item-num\">3&nbsp;&nbsp;</span>Model</a></span></li><li><span><a href=\"#Testing-the-functionnalities-of-the-model\" data-toc-modified-id=\"Testing-the-functionnalities-of-the-model-4\"><span class=\"toc-item-num\">4&nbsp;&nbsp;</span>Testing the functionnalities of the model</a></span></li></ul></div>"
   ]
  },
  {
   "cell_type": "markdown",
   "metadata": {},
   "source": [
    "## Creation of a configuration class"
   ]
  },
  {
   "cell_type": "code",
   "execution_count": 71,
   "metadata": {},
   "outputs": [],
   "source": [
    "class Config:\n",
    "    \"\"\"Configuration\"\"\"\n",
    "    magic_number = 3"
   ]
  },
  {
   "cell_type": "markdown",
   "metadata": {},
   "source": [
    "## Two classes to define some 'low level' methods"
   ]
  },
  {
   "cell_type": "code",
   "execution_count": 100,
   "metadata": {},
   "outputs": [],
   "source": [
    "class DataCleaning():\n",
    "    \"\"\"Data cleaning methods\"\"\"\n",
    "    \n",
    "    # self.data and self.x defined later in the model class\n",
    "    # Config.magic_number from the Config class (no need to create the object!)\n",
    "    \n",
    "    def __init__():\n",
    "        pass\n",
    "    \n",
    "    def _remove_magic_nb(self):\n",
    "        self.data=[x for x in self.data if x != Config.magic_number]\n",
    "        self.x =[x for x in self.x if x != Config.magic_number] \n",
    "        return self"
   ]
  },
  {
   "cell_type": "code",
   "execution_count": 108,
   "metadata": {},
   "outputs": [],
   "source": [
    "class Multiply:\n",
    "    \"\"\"Multiplying data methods\"\"\"\n",
    "    \n",
    "    # self.data and self.x defined later in the model class\n",
    "    \n",
    "    def __init__(self):\n",
    "        pass\n",
    "    \n",
    "    def _double(self):\n",
    "        self.data = [x*2 for x in self.data]\n",
    "        self.x = [x*2 for x in self.x]\n",
    "        return self\n",
    "    \n",
    "    def _triple(self):\n",
    "        self.data = [x*3 for x in self.data]\n",
    "        self.x = [x*3 for x in self.x]\n",
    "        return self"
   ]
  },
  {
   "cell_type": "markdown",
   "metadata": {},
   "source": [
    "## Model"
   ]
  },
  {
   "cell_type": "markdown",
   "metadata": {},
   "source": [
    "Creation of the model itself, which inherits the configuration class `Config`, and the methods contained in the `DataCleaning` and `Multiply` class. This approach helps to keep the essential parts inly in the model with clearly understandable actions"
   ]
  },
  {
   "cell_type": "code",
   "execution_count": 117,
   "metadata": {},
   "outputs": [],
   "source": [
    "class Model(Config, DataCleaning, Multiply):\n",
    "    \"\"\" Creation of a model which inherits the DataCleaning and Multiply methods.\"\"\"\n",
    "    \n",
    "    def __init__(self, data, x):\n",
    "        self.data = data\n",
    "        self.x = x\n",
    "        \n",
    "    def _data_cleaning(self):\n",
    "        \"\"\"Data cleaning using the DataCleaning class methods\"\"\"\n",
    "        self = DataCleaning._remove_magic_nb(self)\n",
    "        \n",
    "    def _data_processing(self):\n",
    "        \"\"\"Data Processing using the Multiply class methods\"\"\"\n",
    "        self = Multiply._double(self)\n",
    "        self = Multiply._triple(self)"
   ]
  },
  {
   "cell_type": "markdown",
   "metadata": {},
   "source": [
    "## Testing the functionnalities of the model"
   ]
  },
  {
   "cell_type": "code",
   "execution_count": 118,
   "metadata": {},
   "outputs": [],
   "source": [
    "# Instantiation of the model\n",
    "model = Model(data = [1,2,0,0,3,7], x = [3, 3, 7, 14])\n",
    "# Performing model actions\n",
    "model._data_cleaning()\n",
    "model._data_processing()"
   ]
  },
  {
   "cell_type": "code",
   "execution_count": 119,
   "metadata": {},
   "outputs": [
    {
     "name": "stdout",
     "output_type": "stream",
     "text": [
      "[6, 12, 0, 0, 42]\n",
      "[42, 84]\n"
     ]
    }
   ],
   "source": [
    "# Displaying the results\n",
    "print(model.data)\n",
    "print(model.x)"
   ]
  }
 ],
 "metadata": {
  "kernelspec": {
   "display_name": "Python 3",
   "language": "python",
   "name": "python3"
  },
  "language_info": {
   "codemirror_mode": {
    "name": "ipython",
    "version": 3
   },
   "file_extension": ".py",
   "mimetype": "text/x-python",
   "name": "python",
   "nbconvert_exporter": "python",
   "pygments_lexer": "ipython3",
   "version": "3.7.6"
  },
  "toc": {
   "base_numbering": 1,
   "nav_menu": {},
   "number_sections": true,
   "sideBar": true,
   "skip_h1_title": true,
   "title_cell": "Table of Contents",
   "title_sidebar": "Contents",
   "toc_cell": true,
   "toc_position": {},
   "toc_section_display": true,
   "toc_window_display": true
  }
 },
 "nbformat": 4,
 "nbformat_minor": 4
}
