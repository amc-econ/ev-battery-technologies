{
 "cells": [
  {
   "cell_type": "markdown",
   "metadata": {},
   "source": [
    "# Data retrieval from the EP full-text database"
   ]
  },
  {
   "cell_type": "markdown",
   "metadata": {},
   "source": [
    "## Data retrieval steps:\n",
    "* Retrieve all patent publication numbers of interest\n",
    "* Retrieve the data from the EP-full-text database\n",
    "* Store it in a unique csv datafile\n",
    "\n",
    "=>  May take an hour with the current speed."
   ]
  },
  {
   "cell_type": "code",
   "execution_count": 1,
   "metadata": {},
   "outputs": [],
   "source": [
    "import pandas as pd\n",
    "import glob\n",
    "import numpy as np"
   ]
  },
  {
   "cell_type": "markdown",
   "metadata": {},
   "source": [
    "## Load PASTAT data"
   ]
  },
  {
   "cell_type": "code",
   "execution_count": 2,
   "metadata": {},
   "outputs": [],
   "source": [
    "# location of the PATSTAT data previously retrieved with the data_extraction_from_PATSTAT.ipynb notebook\n",
    "output_files_prefix = \"wind_tech_1990_2020_with_publications\"\n",
    "pre = '../data/raw/' + output_files_prefix\n",
    "suf = '.csv'"
   ]
  },
  {
   "cell_type": "code",
   "execution_count": 3,
   "metadata": {},
   "outputs": [],
   "source": [
    "# for convenience, we store all the data retrieved into a data object.\n",
    "table_main_patent_infos = pd.read_csv(pre + '_table_main_patent_infos' + suf, low_memory=False)"
   ]
  },
  {
   "cell_type": "markdown",
   "metadata": {},
   "source": [
    "## Hash publication numbers"
   ]
  },
  {
   "cell_type": "code",
   "execution_count": 4,
   "metadata": {},
   "outputs": [],
   "source": [
    "limit_EP_publication_numbers = 3600000"
   ]
  },
  {
   "cell_type": "code",
   "execution_count": 5,
   "metadata": {},
   "outputs": [],
   "source": [
    "# storing publication numbers in a list\n",
    "list_pubs_numbers = table_main_patent_infos['publn_nr'].to_frame().reset_index()['publn_nr'].unique().tolist()\n",
    "\n",
    "# the publication nr can appear in the EP-full_text data only of it:\n",
    "# it is a seven-digits nb\n",
    "# it does not contain letters\n",
    "# <= 3600000\n",
    "list_pubs_numbers = [e for e in list_pubs_numbers \\\n",
    "                     if len(str(e))==7 \\\n",
    "                     if any(f.isalpha() for f in e)==False \\\n",
    "                     if int(e) < limit_EP_publication_numbers]"
   ]
  },
  {
   "cell_type": "code",
   "execution_count": 6,
   "metadata": {
    "scrolled": true
   },
   "outputs": [],
   "source": [
    "# we store the publication numbers in a dictionnary according\n",
    "buckets = list(np.sort(list(set([e[:2] for e in list_pubs_numbers]))))\n",
    "\n",
    "pub_data = {}\n",
    "for bucket in buckets:\n",
    "    pub_ids = [e for e in list_pubs_numbers if e[:2] == bucket]\n",
    "    pub_data.update({bucket: pub_ids})"
   ]
  },
  {
   "cell_type": "markdown",
   "metadata": {},
   "source": [
    "## Retrieve corresponding full-text data"
   ]
  },
  {
   "cell_type": "code",
   "execution_count": 7,
   "metadata": {},
   "outputs": [],
   "source": [
    "def get_df(list_publication_numbers):\n",
    "    \"\"\"Retrieve the Pandas dataframe associated to the publication numbers list\"\"\"\n",
    "    \n",
    "    # EP full text data characteristics\n",
    "    path = r'../data/ep_full_text_database/2020_edition/EP'\n",
    "    regex = \"*.txt\"\n",
    "    sep = '\\t'\n",
    "    new_col_names = ['publication_authority', # will always have the value \"EP\"\n",
    "                    'publication_number', # a seven-digit number\n",
    "                    'publication_kind', # see https://www.epo.org/searching-for-patents/helpful-resources/first-time-here/definitions.html for help.\n",
    "                    'publication_date', # in format YYYY-MM-DD\n",
    "                    'language_text_component', # de, en, fr; xx means unknown\n",
    "                    'text_type', # TITLE, ABSTR, DESCR, CLAIM, AMEND, ACSTM, SREPT, PDFEP\n",
    "                    'text' # it contains, where appropriate, XML tags for better structure. You will find the DTD applicable to all parts of the publication at: http://docs.epoline.org/ebd/doc/ep-patent-document-v1-5.dtd\n",
    "                   ]\n",
    "    \n",
    "    # since the list is predefined, this returns only one element (without the [0])\n",
    "    df_to_open_nb = str(list(set([(str(e)[:2]) for e in list_publication_numbers]))[0])\n",
    "    \n",
    "    # looking for all corresponding files in the path folder\n",
    "    file = glob.glob(path + df_to_open_nb + regex)[0]\n",
    "    \n",
    "    # print info\n",
    "    print('Retrieving data from ', file)\n",
    "    \n",
    "    # opening the right file\n",
    "    data_sample = pd.read_csv(file, sep = sep)\n",
    "    \n",
    "    # renaming the columns\n",
    "    data_sample.columns = new_col_names\n",
    "    \n",
    "    # filtering the dataset with the list of publication numbers\n",
    "    condition = data_sample.publication_number.isin(list_publication_numbers)\n",
    "    \n",
    "    return data_sample[condition]"
   ]
  },
  {
   "cell_type": "code",
   "execution_count": 8,
   "metadata": {},
   "outputs": [
    {
     "name": "stdout",
     "output_type": "stream",
     "text": [
      "Bucket 1 out of 36\n",
      "Retrieving data from  ../data/ep_full_text_database/2020_edition/EP0000000.txt\n",
      "Bucket 2 out of 36\n",
      "Retrieving data from  ../data/ep_full_text_database/2020_edition/EP0100000.txt\n",
      "Bucket 5 out of 36\n",
      "Retrieving data from  ../data/ep_full_text_database/2020_edition/EP0400000.txt\n",
      "Bucket 6 out of 36\n",
      "Retrieving data from  ../data/ep_full_text_database/2020_edition/EP0500000.txt\n",
      "Bucket 7 out of 36\n",
      "Retrieving data from  ../data/ep_full_text_database/2020_edition/EP0600000.txt\n",
      "Bucket 8 out of 36\n",
      "Retrieving data from  ../data/ep_full_text_database/2020_edition/EP0700000.txt\n",
      "Bucket 9 out of 36\n",
      "Retrieving data from  ../data/ep_full_text_database/2020_edition/EP0800000.txt\n",
      "Bucket 10 out of 36\n",
      "Retrieving data from  ../data/ep_full_text_database/2020_edition/EP0900000.txt\n",
      "Bucket 11 out of 36\n",
      "Retrieving data from  ../data/ep_full_text_database/2020_edition/EP1000000.txt\n",
      "Bucket 12 out of 36\n",
      "Retrieving data from  ../data/ep_full_text_database/2020_edition/EP1100000.txt\n",
      "Bucket 13 out of 36\n",
      "Retrieving data from  ../data/ep_full_text_database/2020_edition/EP1200000.txt\n",
      "Bucket 14 out of 36\n",
      "Retrieving data from  ../data/ep_full_text_database/2020_edition/EP1300000.txt\n",
      "Bucket 15 out of 36\n",
      "Retrieving data from  ../data/ep_full_text_database/2020_edition/EP1400000.txt\n",
      "Bucket 16 out of 36\n",
      "Retrieving data from  ../data/ep_full_text_database/2020_edition/EP1500000.txt\n",
      "Bucket 17 out of 36\n",
      "Retrieving data from  ../data/ep_full_text_database/2020_edition/EP1600000.txt\n",
      "Bucket 18 out of 36\n",
      "Retrieving data from  ../data/ep_full_text_database/2020_edition/EP1700000.txt\n",
      "Bucket 19 out of 36\n",
      "Retrieving data from  ../data/ep_full_text_database/2020_edition/EP1800000.txt\n",
      "Bucket 20 out of 36\n",
      "Retrieving data from  ../data/ep_full_text_database/2020_edition/EP1900000.txt\n",
      "Bucket 21 out of 36\n",
      "Retrieving data from  ../data/ep_full_text_database/2020_edition/EP2000000.txt\n",
      "Bucket 22 out of 36\n",
      "Retrieving data from  ../data/ep_full_text_database/2020_edition/EP2100000.txt\n",
      "Bucket 23 out of 36\n",
      "Retrieving data from  ../data/ep_full_text_database/2020_edition/EP2200000.txt\n",
      "Bucket 24 out of 36\n",
      "Retrieving data from  ../data/ep_full_text_database/2020_edition/EP2300000.txt\n",
      "Bucket 25 out of 36\n",
      "Retrieving data from  ../data/ep_full_text_database/2020_edition/EP2400000.txt\n",
      "Bucket 26 out of 36\n",
      "Retrieving data from  ../data/ep_full_text_database/2020_edition/EP2500000.txt\n",
      "Bucket 27 out of 36\n",
      "Retrieving data from  ../data/ep_full_text_database/2020_edition/EP2600000.txt\n",
      "Bucket 28 out of 36\n",
      "Retrieving data from  ../data/ep_full_text_database/2020_edition/EP2700000.txt\n",
      "Bucket 29 out of 36\n",
      "Retrieving data from  ../data/ep_full_text_database/2020_edition/EP2800000.txt\n",
      "Bucket 30 out of 36\n",
      "Retrieving data from  ../data/ep_full_text_database/2020_edition/EP2900000.txt\n",
      "Bucket 31 out of 36\n",
      "Retrieving data from  ../data/ep_full_text_database/2020_edition/EP3000000.txt\n",
      "Bucket 32 out of 36\n",
      "Retrieving data from  ../data/ep_full_text_database/2020_edition/EP3100000.txt\n",
      "Bucket 33 out of 36\n",
      "Retrieving data from  ../data/ep_full_text_database/2020_edition/EP3200000.txt\n",
      "Bucket 34 out of 36\n",
      "Retrieving data from  ../data/ep_full_text_database/2020_edition/EP3300000.txt\n",
      "Bucket 35 out of 36\n",
      "Retrieving data from  ../data/ep_full_text_database/2020_edition/EP3400000.txt\n",
      "Bucket 36 out of 36\n",
      "Retrieving data from  ../data/ep_full_text_database/2020_edition/EP3500000.txt\n",
      "CPU times: user 25min 28s, sys: 1min 26s, total: 26min 55s\n",
      "Wall time: 40min 58s\n"
     ]
    }
   ],
   "source": [
    "%%time\n",
    "\n",
    "# for each bucket, we look for the data in the corresponding input file\n",
    "list_df = []\n",
    "for i, bucket in enumerate(pub_data.keys()):\n",
    "    print('Bucket {} out of {}'.format(i+1, len(pub_data.keys())))\n",
    "    l = pub_data[bucket]\n",
    "    list_df.append(get_df(l))\n",
    "    \n",
    "result_df = pd.concat(list_df)"
   ]
  },
  {
   "cell_type": "markdown",
   "metadata": {},
   "source": [
    "## Store the result in a csv file"
   ]
  },
  {
   "cell_type": "code",
   "execution_count": 9,
   "metadata": {},
   "outputs": [
    {
     "name": "stdout",
     "output_type": "stream",
     "text": [
      "Saving results in ../data/raw/wind_tech_1990_2020_with_publications_full_text.csv\n"
     ]
    }
   ],
   "source": [
    "file = pre + '_full_text' + suf # where to save\n",
    "print('Saving results in {}'.format(file))\n",
    "result_df.to_csv(file)"
   ]
  }
 ],
 "metadata": {
  "kernelspec": {
   "display_name": "Python 3",
   "language": "python",
   "name": "python3"
  },
  "language_info": {
   "codemirror_mode": {
    "name": "ipython",
    "version": 3
   },
   "file_extension": ".py",
   "mimetype": "text/x-python",
   "name": "python",
   "nbconvert_exporter": "python",
   "pygments_lexer": "ipython3",
   "version": "3.6.9"
  }
 },
 "nbformat": 4,
 "nbformat_minor": 4
}
